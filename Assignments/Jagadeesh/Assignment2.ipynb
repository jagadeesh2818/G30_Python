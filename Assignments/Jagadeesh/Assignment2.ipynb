{
 "cells": [
  {
   "cell_type": "code",
   "execution_count": 1,
   "metadata": {},
   "outputs": [],
   "source": [
    "#1. Write a program that takes an integer as input and determines if it is even or odd using an if-else statement.\n",
    "n = int(input('enter number:'))\n",
    "if n % 2 == 0:\n",
    "    print('even')\n",
    "else:\n",
    "    print('odd')"
   ]
  },
  {
   "cell_type": "code",
   "execution_count": null,
   "metadata": {},
   "outputs": [],
   "source": [
    "#2. Write a program that takes a person's age as input and determines if they are eligible to vote using an if-else statement.\n",
    "age = int(input('enter your age:'))\n",
    "if age >= 18:\n",
    "    print('you are eligable for voting')\n",
    "else:\n",
    "    print('you are not eligable for voating')"
   ]
  },
  {
   "cell_type": "code",
   "execution_count": null,
   "metadata": {},
   "outputs": [],
   "source": [
    "#3. Write a program that takes a year as input and determines if it is a leap year using an if-else statement.\n",
    "year = int(input('enter the year:'))\n",
    "if ( year % 4 == 0 and year % 100 != 0) or year % 400 == 0:\n",
    "    print('it is leap year')\n",
    "else:\n",
    "    print('it is not leap year')\n",
    "    "
   ]
  },
  {
   "cell_type": "code",
   "execution_count": null,
   "metadata": {},
   "outputs": [],
   "source": [
    "#4. Write a program that takes the price of a product and the discount percentage as input and calculates the discounted price using an if-else statement.\n",
    "price = int(input('enter the price :'))\n",
    "discount_percentage = int(input('enter the discount:'))\n",
    "discount_price = price - (price * discount_percentage / 100)\n",
    "print(discount_price)\n",
    "if discount_price < 0:\n",
    "    print(\"Discount exceeds the price!\")\n",
    "else:\n",
    "    print(\"Discounted price:\", discount_price)"
   ]
  },
  {
   "cell_type": "code",
   "execution_count": null,
   "metadata": {},
   "outputs": [],
   "source": [
    "#5. Write a program that takes a character as input and determines if it is uppercase or lowercase using an if-else statement.\n",
    "char = input('enter the charecter:')\n",
    "if char.isupper():\n",
    "    print('charecter s upper case')\n",
    "elif char.islower():\n",
    "    print('charecter is lower')\n",
    "else:\n",
    "    print('please enter the charecters')\n",
    "\n",
    "        #or#\n",
    "char = input('enter the charecter:')\n",
    "if 'A' <= char <= 'Z':\n",
    "    print('charecter s upper case')\n",
    "elif 'a' <= char <='z':\n",
    "    print('charecter is lower')\n",
    "else:\n",
    "    print('please enter the charecters')"
   ]
  },
  {
   "cell_type": "code",
   "execution_count": null,
   "metadata": {},
   "outputs": [],
   "source": [
    "#6. Write a program that takes a number as input and determines if it is positive, negative.\n",
    "N = int(input('enter the number:'))\n",
    "if N > 0:\n",
    "    print('positive number')\n",
    "else:\n",
    "    print('negative number')\n",
    "\n",
    "    "
   ]
  },
  {
   "cell_type": "code",
   "execution_count": null,
   "metadata": {},
   "outputs": [],
   "source": []
  },
  {
   "cell_type": "code",
   "execution_count": null,
   "metadata": {},
   "outputs": [],
   "source": [
    "'''1. **Print a pattern**: Write a Python program to print the following pattern using nested loops:\n",
    "   ```\n",
    "   *\n",
    "   **\n",
    "   ***\n",
    "   ****\n",
    "   *****'''\n",
    "n = int(input('enter the num:'))\n",
    "for i in range(1,n+1):\n",
    "    for j in range(1,i+1):\n",
    "        print('*',end='' )\n",
    "    print()"
   ]
  },
  {
   "cell_type": "code",
   "execution_count": null,
   "metadata": {},
   "outputs": [],
   "source": [
    "#Write a Python program that prints the multiplication table (from 1 to 10) using nested loops.\n",
    "n = int(input('enter the num:'))\n",
    "for i in range(1,n+1):\n",
    "    for j in range(1,10+1):\n",
    "        print(i,'X' , j ,'=' ,i*j)\n",
    "    print()\n"
   ]
  },
  {
   "cell_type": "code",
   "execution_count": null,
   "metadata": {},
   "outputs": [],
   "source": [
    "#Write a Python program using nested loops to find all prime numbers within a given range.\n",
    "n = int(input('enter the number:'))\n",
    "for i in range(2,n+1):\n",
    "    ind = True\n",
    "    for j in range(2,i):\n",
    "        if i % j == 0:\n",
    "            ind = False\n",
    "    if ind == True:\n",
    "        print(i)"
   ]
  },
  {
   "cell_type": "code",
   "execution_count": null,
   "metadata": {},
   "outputs": [],
   "source": [
    "#Write a Python program to print the Fibonacci sequence's first `n` numbers using a loop within a loop.\n",
    "n = int(input('enter the number:'))\n",
    "a = 0\n",
    "b = 1\n",
    "while b <= n:\n",
    "    c = a+b\n",
    "    print(b)\n",
    "    a = b\n",
    "    b = c\n"
   ]
  },
  {
   "cell_type": "code",
   "execution_count": null,
   "metadata": {},
   "outputs": [],
   "source": [
    "#pascals Traingle\n",
    "rows = int(input(\"Enter the number of rows for Pascal's Triangle: \"))\n",
    "triangle = []\n",
    "for i in range(rows):\n",
    "    row = [1]  \n",
    "    if triangle:\n",
    "        last_row = triangle[-1]  \n",
    "        for j in range(1, i):\n",
    "            row.append(last_row[j - 1] + last_row[j])\n",
    "        row.append(1)  \n",
    "    triangle.append(row)\n",
    "for row in triangle:\n",
    "    for element in row:\n",
    "        print(element, end=\" \")\n",
    "    print()  "
   ]
  },
  {
   "cell_type": "code",
   "execution_count": 50,
   "metadata": {},
   "outputs": [
    {
     "name": "stdout",
     "output_type": "stream",
     "text": [
      "01 02 03 04 05 06 07 08 09 10 \n",
      "02 04 06 08 10 12 14 16 18 20 \n",
      "03 06 09 12 15 18 21 24 27 30 \n",
      "04 08 12 16 20 24 28 32 36 40 \n",
      "05 10 15 20 25 30 35 40 45 50 \n",
      "06 12 18 24 30 36 42 48 54 60 \n",
      "07 14 21 28 35 42 49 56 63 70 \n",
      "08 16 24 32 40 48 56 64 72 80 \n",
      "09 18 27 36 45 54 63 72 81 90 \n",
      "10 20 30 40 50 60 70 80 90 100 \n"
     ]
    }
   ],
   "source": [
    "n = 10\n",
    "for i in range(1,n+1):\n",
    "    for j in range(1,10+1):\n",
    "        r = i * j\n",
    "        s = str(r)\n",
    "        if len(s) < 2:\n",
    "            print(f\"0{r}\",end=' ')\n",
    "        else:\n",
    "            print(r,end = ' ')\n",
    "    print()\n",
    "  \n",
    "   "
   ]
  },
  {
   "cell_type": "code",
   "execution_count": null,
   "metadata": {},
   "outputs": [],
   "source": []
  },
  {
   "cell_type": "code",
   "execution_count": null,
   "metadata": {},
   "outputs": [],
   "source": []
  },
  {
   "cell_type": "code",
   "execution_count": null,
   "metadata": {},
   "outputs": [],
   "source": []
  }
 ],
 "metadata": {
  "kernelspec": {
   "display_name": "Python 3",
   "language": "python",
   "name": "python3"
  },
  "language_info": {
   "codemirror_mode": {
    "name": "ipython",
    "version": 3
   },
   "file_extension": ".py",
   "mimetype": "text/x-python",
   "name": "python",
   "nbconvert_exporter": "python",
   "pygments_lexer": "ipython3",
   "version": "3.10.1"
  },
  "orig_nbformat": 4
 },
 "nbformat": 4,
 "nbformat_minor": 2
}
